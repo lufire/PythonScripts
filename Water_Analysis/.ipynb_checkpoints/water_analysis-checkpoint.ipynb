{
 "cells": [
  {
   "cell_type": "code",
   "execution_count": 1,
   "metadata": {},
   "outputs": [],
   "source": [
    "# imports\n",
    "import os\n",
    "import numpy as np\n",
    "import matplotlib as mpl\n",
    "import matplotlib.pyplot as plt\n",
    "import PIL as pil\n",
    "import cv2"
   ]
  },
  {
   "cell_type": "code",
   "execution_count": 2,
   "metadata": {},
   "outputs": [],
   "source": [
    "# %matplotlib inline"
   ]
  },
  {
   "cell_type": "code",
   "execution_count": 3,
   "metadata": {},
   "outputs": [],
   "source": [
    "# load images\n",
    "cwd = os.getcwd()\n",
    "# base_image_path = os.path.join(cwd, 'Images', 'Beispiel 1_Hintergrundbild.jpg')\n",
    "# test_image_path = os.path.join(cwd, 'Images', 'Beispiel 1_01.jpg')\n",
    "base_image_path = os.path.join(cwd, 'Images', '0000.jpg')\n",
    "test_image_path = os.path.join(cwd, 'Images', '0010.jpg')\n",
    "base_image = pil.Image.open(base_image_path).convert('L')\n",
    "test_image = pil.Image.open(test_image_path).convert('L')"
   ]
  },
  {
   "cell_type": "code",
   "execution_count": 4,
   "metadata": {},
   "outputs": [],
   "source": [
    "# show initial images\n",
    "# base_image.show()\n",
    "# test_image.show()"
   ]
  },
  {
   "cell_type": "code",
   "execution_count": 5,
   "metadata": {},
   "outputs": [],
   "source": [
    "# convert to arrays\n",
    "base_array = np.asarray(base_image, dtype=np.float64)\n",
    "test_array = np.asarray(test_image, dtype=np.float64)"
   ]
  },
  {
   "cell_type": "code",
   "execution_count": 6,
   "metadata": {},
   "outputs": [],
   "source": [
    "# create difference array and rescale\n",
    "filter_thresh = 0.1\n",
    "diff_array = test_array - base_array\n",
    "diff_array[np.abs(diff_array) < filter_thresh * 255.0] = 0.0\n",
    "diff_min = np.min(diff_array)\n",
    "diff_max = np.max(diff_array)\n",
    "# diff_array += diff_min\n",
    "diff_array = np.where(diff_array == 0.0, 0.0, np.interp(diff_array, (diff_min, diff_max), (0.0, 255.0)))\n",
    "# diff_array = np.interp(diff_array, (diff_array.min(), diff_array.max()), (0.0, 255.0))"
   ]
  },
  {
   "cell_type": "code",
   "execution_count": 7,
   "metadata": {},
   "outputs": [],
   "source": [
    "# scale difference array\n",
    "# diff_array = diff_array ** 5.0\n",
    "diff_array = np.where(diff_array == 0.0, 0.0, np.interp(diff_array, (diff_min, diff_max), (0.0, 255.0)))"
   ]
  },
  {
   "cell_type": "code",
   "execution_count": 8,
   "metadata": {},
   "outputs": [],
   "source": [
    "# show difference image\n",
    "diff_image = pil.Image.fromarray(diff_array)\n",
    "diff_image.show()"
   ]
  },
  {
   "cell_type": "code",
   "execution_count": 9,
   "metadata": {},
   "outputs": [],
   "source": [
    "# find gradients in difference array\n",
    "grads = np.gradient(diff_array)\n",
    "grad_sum = np.abs(grads[0]) + np.abs(grads[1])"
   ]
  },
  {
   "cell_type": "code",
   "execution_count": 10,
   "metadata": {},
   "outputs": [],
   "source": [
    "# set relative gradient threshold and filter gradients\n",
    "grad_thresh = 0.1\n",
    "grad_thresh_array = np.copy(grad_sum)\n",
    "grad_thresh_array[grad_thresh_array < grad_thresh * grad_sum.max()] = 0.0"
   ]
  },
  {
   "cell_type": "code",
   "execution_count": 11,
   "metadata": {},
   "outputs": [],
   "source": [
    "# filter difference array according to gradient threshold and show image\n",
    "diff_grad_array = np.copy(diff_array)\n",
    "diff_grad_array[grad_thresh_array == 0.0] = 0.0\n",
    "diff_grad_image = pil.Image.fromarray(diff_grad_array)\n",
    "diff_grad_image.show()"
   ]
  },
  {
   "cell_type": "code",
   "execution_count": 12,
   "metadata": {},
   "outputs": [],
   "source": [
    "# make image from gradient array with applied threshold\n",
    "grad_thresh_array = np.interp(grad_thresh_array, (grad_thresh_array.min(), grad_thresh_array.max()), (0.0, 255.0))\n",
    "grad_thresh_image = pil.Image.fromarray(grad_thresh_array)\n",
    "grad_thresh_image.show()"
   ]
  },
  {
   "cell_type": "code",
   "execution_count": 13,
   "metadata": {},
   "outputs": [],
   "source": [
    "grads = np.gradient(diff_array)\n",
    "grad_sum = np.abs(grads[0]) + np.abs(grads[1])\n",
    "grad_thresh = 0.4\n",
    "grad_thresh_array = np.copy(grad_sum)\n",
    "grad_thresh_array[grad_thresh_array < grad_thresh * grad_sum.max()] = 0.0\n",
    "# make image from gradient array with applied threshold\n",
    "grad_thresh_array = np.interp(grad_thresh_array, (grad_thresh_array.min(), grad_thresh_array.max()), (0.0, 255.0))\n",
    "grad_thresh_image = pil.Image.fromarray(grad_thresh_array)\n",
    "grad_thresh_image.show()"
   ]
  },
  {
   "cell_type": "code",
   "execution_count": 26,
   "metadata": {},
   "outputs": [],
   "source": [
    "image = cv2.imread(test_image_path)\n",
    "imgray = cv2.cvtColor(image, cv2.COLOR_BGR2GRAY)\n",
    "diff_array_int = diff_array.astype(np.uint8)\n",
    "ret, thresh = cv2.threshold(diff_array_int, np.int(255*0.5), 255, 0)\n",
    "_, contours, _ = cv2.findContours(thresh, cv2.RETR_TREE, cv2.CHAIN_APPROX_SIMPLE)\n",
    "cv2.drawContours(image, contours, -1, (0,255,0), 3)\n",
    "img = pil.Image.fromarray(image)\n",
    "img.show()"
   ]
  },
  {
   "cell_type": "code",
   "execution_count": 27,
   "metadata": {},
   "outputs": [],
   "source": [
    "img = pil.Image.fromarray(thresh)\n",
    "img.show()"
   ]
  },
  {
   "cell_type": "code",
   "execution_count": null,
   "metadata": {},
   "outputs": [],
   "source": []
  }
 ],
 "metadata": {
  "kernelspec": {
   "display_name": "py37",
   "language": "python",
   "name": "py37"
  },
  "language_info": {
   "codemirror_mode": {
    "name": "ipython",
    "version": 3
   },
   "file_extension": ".py",
   "mimetype": "text/x-python",
   "name": "python",
   "nbconvert_exporter": "python",
   "pygments_lexer": "ipython3",
   "version": "3.7.4"
  }
 },
 "nbformat": 4,
 "nbformat_minor": 4
}
